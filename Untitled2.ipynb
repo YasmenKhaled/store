{
 "cells": [
  {
   "cell_type": "code",
   "execution_count": 1,
   "metadata": {},
   "outputs": [
    {
     "name": "stdout",
     "output_type": "stream",
     "text": [
      "please enter first number :1.0\n",
      "please enter second number :1.0\n",
      "passed a=1.0 and b=1.0, returning a+b=2.0\n"
     ]
    },
    {
     "data": {
      "text/plain": [
       "2.0"
      ]
     },
     "execution_count": 1,
     "metadata": {},
     "output_type": "execute_result"
    }
   ],
   "source": [
    "sum=0\n",
    "def add(a,b):\n",
    "    sum=a+b\n",
    "    print(\"passed a=%s and b=%s, returning a+b=%s\" %(a,b,a+b))\n",
    "    return sum\n",
    "\n",
    "x=float(input(\"please enter first number :\"))\n",
    "y=float(input(\"please enter second number :\"))\n",
    "\n",
    "add(x,y)"
   ]
  },
  {
   "cell_type": "code",
   "execution_count": 2,
   "metadata": {},
   "outputs": [
    {
     "name": "stdout",
     "output_type": "stream",
     "text": [
      "please enter first number :10.0\n",
      "please enter second number :-2.1\n",
      "passed a=10.0 and b=-2.1, returning a+b=7.9\n"
     ]
    },
    {
     "data": {
      "text/plain": [
       "7.9"
      ]
     },
     "execution_count": 2,
     "metadata": {},
     "output_type": "execute_result"
    }
   ],
   "source": [
    "sum=0\n",
    "def add(a,b):\n",
    "    sum=a+b\n",
    "    print(\"passed a=%s and b=%s, returning a+b=%s\" %(a,b,a+b))\n",
    "    return sum\n",
    "\n",
    "x=float(input(\"please enter first number :\"))\n",
    "y=float(input(\"please enter second number :\"))\n",
    "\n",
    "add(x,y)"
   ]
  },
  {
   "cell_type": "code",
   "execution_count": 3,
   "metadata": {},
   "outputs": [
    {
     "name": "stdout",
     "output_type": "stream",
     "text": [
      "please enter first number :2.0\n",
      "please enter second number :3.0\n",
      "passed a=2.0 and b=3.0, returning a+b=5.0\n"
     ]
    },
    {
     "data": {
      "text/plain": [
       "5.0"
      ]
     },
     "execution_count": 3,
     "metadata": {},
     "output_type": "execute_result"
    }
   ],
   "source": [
    "sum=0\n",
    "def add(a,b):\n",
    "    sum=a+b\n",
    "    print(\"passed a=%s and b=%s, returning a+b=%s\" %(a,b,a+b))\n",
    "    return sum\n",
    "\n",
    "x=float(input(\"please enter first number :\"))\n",
    "y=float(input(\"please enter second number :\"))\n",
    "\n",
    "add(x,y)\n",
    "\n"
   ]
  },
  {
   "cell_type": "code",
   "execution_count": null,
   "metadata": {},
   "outputs": [],
   "source": []
  },
  {
   "cell_type": "code",
   "execution_count": null,
   "metadata": {},
   "outputs": [],
   "source": []
  }
 ],
 "metadata": {
  "kernelspec": {
   "display_name": "Python 3",
   "language": "python",
   "name": "python3"
  },
  "language_info": {
   "codemirror_mode": {
    "name": "ipython",
    "version": 3
   },
   "file_extension": ".py",
   "mimetype": "text/x-python",
   "name": "python",
   "nbconvert_exporter": "python",
   "pygments_lexer": "ipython3",
   "version": "3.7.4"
  }
 },
 "nbformat": 4,
 "nbformat_minor": 2
}

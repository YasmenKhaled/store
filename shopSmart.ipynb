{
 "cells": [
  {
   "cell_type": "code",
   "execution_count": 1,
   "metadata": {},
   "outputs": [
    {
     "name": "stdout",
     "output_type": "stream",
     "text": [
      "Welcome to shop1 fruit shop\n",
      "Welcome to shop2 fruit shop\n",
      "For orders  [('apples', 1.0), ('oranges', 3.0)] , the best shop is shop1\n",
      "For orders:  [('apples', 3.0)] , the best shop is shop2\n"
     ]
    }
   ],
   "source": [
    "from __future__ import print_function\n",
    "import shop\n",
    "\n",
    "\n",
    "def shopSmart(orderList, fruitShops):\n",
    "    \"\"\"\n",
    "        orderList: List of (fruit, numPound) tuples\n",
    "        fruitShops: List of FruitShops\n",
    "    \"\"\"\n",
    "    \"*** YOUR CODE HERE ***\"\n",
    "    bestShopPrice = fruitShops[0].getPriceOfOrder(orderList)\n",
    "    bestShopName = fruitShops[0]\n",
    "    for shop in fruitShops:\n",
    "        currentPrice = shop.getPriceOfOrder(orderList)\n",
    "        if currentPrice < bestShopPrice:\n",
    "            bestShopPrice = currentPrice\n",
    "            bestShopName = shop\n",
    "    return bestShopName\n",
    "    return None\n",
    "\n",
    "\n",
    "if __name__ == '__main__':\n",
    "    \"This code runs when you invoke the script from the command line\"\n",
    "    orders = [('apples', 1.0), ('oranges', 3.0)]\n",
    "    dir1 = {'apples': 2.0, 'oranges': 1.0}\n",
    "    shop1 = shop.FruitShop('shop1', dir1)\n",
    "    dir2 = {'apples': 1.0, 'oranges': 5.0}\n",
    "    shop2 = shop.FruitShop('shop2', dir2)\n",
    "    shops = [shop1, shop2]\n",
    "    print(\"For orders \", orders, \", the best shop is\", shopSmart(orders, shops).getName())\n",
    "    orders = [('apples', 3.0)]\n",
    "    print(\"For orders: \", orders, \", the best shop is\", shopSmart(orders, shops).getName())\n"
   ]
  },
  {
   "cell_type": "code",
   "execution_count": 1,
   "metadata": {},
   "outputs": [
    {
     "name": "stdout",
     "output_type": "stream",
     "text": [
      "Welcome to shop1 fruit shop\n",
      "Welcome to shop2 fruit shop\n",
      "For orders  [('apples', 1.0), ('oranges', 3.0)] , the best shop is shop1\n",
      "For orders:  [('apples', 1.0), ('oranges', 3.0)] , the best shop is shop1\n"
     ]
    }
   ],
   "source": [
    "from __future__ import print_function\n",
    "import shop\n",
    "\n",
    "\n",
    "def shopSmart(orderList, fruitShops):\n",
    "    \"\"\"\n",
    "        orderList: List of (fruit, numPound) tuples\n",
    "        fruitShops: List of FruitShops\n",
    "    \"\"\"\n",
    "    \"*** YOUR CODE HERE ***\"\n",
    "    bestShopPrice = fruitShops[0].getPriceOfOrder(orderList)\n",
    "    bestShopName = fruitShops[0]\n",
    "    for shop in fruitShops:\n",
    "        currentPrice = shop.getPriceOfOrder(orderList)\n",
    "        if currentPrice < bestShopPrice:\n",
    "            bestShopPrice = currentPrice\n",
    "            bestShopName = shop\n",
    "    return bestShopName\n",
    "    return None\n",
    "\n",
    "\n",
    "if __name__ == '__main__':\n",
    "    \"This code runs when you invoke the script from the command line\"\n",
    "    orders = [('apples', 1.0), ('oranges', 3.0)]\n",
    "    dir1 = {'apples': 2.0, 'oranges': 1.0}\n",
    "    shop1 = shop.FruitShop('shop1', dir1)\n",
    "    dir2 = {'apples': 1.0, 'oranges': 5.0}\n",
    "    shop2 = shop.FruitShop('shop2', dir2)\n",
    "    shops = [shop1, shop2]\n",
    "    print(\"For orders \", orders, \", the best shop is\", shopSmart(orders, shops).getName())\n",
    "    order = [('apples',1.0), ('oranges',3.0)]\n",
    "    print(\"For orders: \", orders, \", the best shop is\", shopSmart(orders, shops).getName())\n"
   ]
  },
  {
   "cell_type": "code",
   "execution_count": 2,
   "metadata": {},
   "outputs": [
    {
     "name": "stdout",
     "output_type": "stream",
     "text": [
      "Welcome to shop1 fruit shop\n",
      "Welcome to shop2 fruit shop\n",
      "Welcome to shop3 fruit shop\n",
      "For orders  [('apples', 1.0), ('oranges', 3.0)] , the best shop is shop1\n",
      "For orders:  [('apples', 1.0), ('oranges', 3.0)] , the best shop is shop1\n"
     ]
    }
   ],
   "source": [
    "from __future__ import print_function\n",
    "import shop\n",
    "\n",
    "\n",
    "def shopSmart(orderList, fruitShops):\n",
    "    \"\"\"\n",
    "        orderList: List of (fruit, numPound) tuples\n",
    "        fruitShops: List of FruitShops\n",
    "    \"\"\"\n",
    "    \"*** YOUR CODE HERE ***\"\n",
    "    bestShopPrice = fruitShops[0].getPriceOfOrder(orderList)\n",
    "    bestShopName = fruitShops[0]\n",
    "    for shop in fruitShops:\n",
    "        currentPrice = shop.getPriceOfOrder(orderList)\n",
    "        if currentPrice < bestShopPrice:\n",
    "            bestShopPrice = currentPrice\n",
    "            bestShopName = shop\n",
    "    return bestShopName\n",
    "    return None\n",
    "\n",
    "\n",
    "if __name__ == '__main__':\n",
    "    \"This code runs when you invoke the script from the command line\"\n",
    "    orders = [('apples', 1.0), ('oranges', 3.0)]\n",
    "    dir1 = {'apples': 2.0, 'oranges':1.0}\n",
    "    shop1 =  shop.FruitShop('shop1',dir1)\n",
    "    dir2 = {'apples': 1.0, 'oranges': 5.0}\n",
    "    shop2 = shop.FruitShop('shop2',dir2)\n",
    "    dir3 = {'apples': 1.5, 'oranges': 2.0}\n",
    "    shop3 = shop.FruitShop('shop3',dir3)\n",
    "    shops = [shop1, shop2, shop3]\n",
    "\n",
    "    print(\"For orders \", orders, \", the best shop is\", shopSmart(orders, shops).getName())\n",
    "    order = [('apples',10.0), ('oranges',3.0)]\n",
    "    print(\"For orders: \", orders, \", the best shop is\", shopSmart(orders, shops).getName())\n"
   ]
  },
  {
   "cell_type": "code",
   "execution_count": null,
   "metadata": {},
   "outputs": [],
   "source": []
  }
 ],
 "metadata": {
  "kernelspec": {
   "display_name": "Python 3",
   "language": "python",
   "name": "python3"
  },
  "language_info": {
   "codemirror_mode": {
    "name": "ipython",
    "version": 3
   },
   "file_extension": ".py",
   "mimetype": "text/x-python",
   "name": "python",
   "nbconvert_exporter": "python",
   "pygments_lexer": "ipython3",
   "version": "3.7.4"
  }
 },
 "nbformat": 4,
 "nbformat_minor": 2
}

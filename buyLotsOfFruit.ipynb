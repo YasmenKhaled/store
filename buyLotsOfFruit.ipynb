{
 "cells": [
  {
   "cell_type": "code",
   "execution_count": 7,
   "metadata": {},
   "outputs": [
    {
     "name": "stdout",
     "output_type": "stream",
     "text": [
      "That'll be 4.000000 \n",
      "That'll be 5.250000 \n",
      "That'll be 3.000000 \n",
      "cost of [('apples', 2.0), ('pears', 3.0), ('limes', 4.0)] is 12.25\n"
     ]
    }
   ],
   "source": [
    "from __future__ import print_function\n",
    "\n",
    "fruitPrices = {'apples':2.00, 'oranges': 1.50, 'pears': 1.75,'limes':0.75, 'strawberries':1.00}\n",
    "\n",
    "def buyLotsOfFruit(orderList):\n",
    "    \n",
    "    totalCost = 0.0\n",
    "    \n",
    "    for fruit,num in orderList:\n",
    "        \n",
    "        \n",
    "        if fruit not in fruitPrices.keys():\n",
    "            \n",
    "            print (\"Sorry we don't have %s\" % (fruit))\n",
    "        else:\n",
    "            totalcost=fruitPrices[fruit]*num\n",
    "            print (\"That'll be %f \" % (totalcost))\n",
    "            for Fruit,price in fruitPrices.items():\n",
    "                \n",
    "                if fruit==Fruit:\n",
    "                    \n",
    "                    totalCost= totalCost+(price*num)\n",
    "                \n",
    "       \n",
    "    return  totalCost\n",
    "if __name__ == '__main__':\n",
    "    \"This code runs when you invoke the script from the command line\"\n",
    "    orderList=[('apples', 2.0), ('pears', 3.0) ,('limes',4.0)]\n",
    "    print(\"cost of\",orderList,\"is\",buyLotsOfFruit(orderList))"
   ]
  },
  {
   "cell_type": "code",
   "execution_count": null,
   "metadata": {},
   "outputs": [],
   "source": []
  }
 ],
 "metadata": {
  "kernelspec": {
   "display_name": "Python 3",
   "language": "python",
   "name": "python3"
  },
  "language_info": {
   "codemirror_mode": {
    "name": "ipython",
    "version": 3
   },
   "file_extension": ".py",
   "mimetype": "text/x-python",
   "name": "python",
   "nbconvert_exporter": "python",
   "pygments_lexer": "ipython3",
   "version": "3.7.4"
  }
 },
 "nbformat": 4,
 "nbformat_minor": 2
}
